{
 "cells": [
  {
   "cell_type": "code",
   "execution_count": null,
   "metadata": {},
   "outputs": [],
   "source": [
    "import numpy as np\n",
    "from dotenv import load_dotenv\n",
    "from langchain_google_genai import GoogleGenerativeAIEmbeddings"
   ]
  },
  {
   "cell_type": "code",
   "execution_count": null,
   "metadata": {},
   "outputs": [],
   "source": [
    "load_dotenv()"
   ]
  },
  {
   "cell_type": "code",
   "execution_count": null,
   "metadata": {},
   "outputs": [],
   "source": [
    "embeddings = GoogleGenerativeAIEmbeddings(model=\"models/embedding-001\")"
   ]
  },
  {
   "cell_type": "code",
   "execution_count": null,
   "metadata": {},
   "outputs": [],
   "source": [
    "doc1 = \"Adam has 5 Apples\"\n",
    "doc2 = \"Adam has 10 Bananas\"\n",
    "doc3 = \"Adam has a PS-5\"\n",
    "\n",
    "user_query = \"How many fruits does Adam have?\""
   ]
  },
  {
   "cell_type": "code",
   "execution_count": null,
   "metadata": {},
   "outputs": [],
   "source": [
    "#create embeddings\n",
    "doc1_embedding_vector = embeddings.embed_query(doc1)\n",
    "doc2_embedding_vector = embeddings.embed_query(doc2)\n",
    "doc3_embedding_vector = embeddings.embed_query(doc3)\n",
    "\n",
    "query_embedding_vector = embeddings.embed_query(user_query)"
   ]
  },
  {
   "cell_type": "code",
   "execution_count": null,
   "metadata": {},
   "outputs": [],
   "source": [
    "print(doc1_embedding_vector)\n",
    "print(doc2_embedding_vector)\n",
    "print(doc3_embedding_vector)\n",
    "print(query_embedding_vector)\n",
    "\n",
    "print('Dimension of embeddings: ',len(doc1_embedding_vector))"
   ]
  },
  {
   "cell_type": "code",
   "execution_count": null,
   "metadata": {},
   "outputs": [],
   "source": [
    "def cosine_similarity(v1, v2):\n",
    "    dot_product = np.dot(v1, v2)\n",
    "    norm_v1 = np.linalg.norm(v1)\n",
    "    norm_v2 = np.linalg.norm(v2)\n",
    "\n",
    "    similarity = dot_product / (norm_v1 * norm_v2)\n",
    "    return similarity"
   ]
  },
  {
   "cell_type": "code",
   "execution_count": null,
   "metadata": {},
   "outputs": [],
   "source": [
    "doc1_similarity = cosine_similarity(doc1_embedding_vector, query_embedding_vector)\n",
    "doc2_similarity = cosine_similarity(doc2_embedding_vector, query_embedding_vector)\n",
    "doc3_similarity = cosine_similarity(doc3_embedding_vector, query_embedding_vector)\n",
    "\n",
    "print(doc1,'->',doc1_similarity)\n",
    "print(doc2,'->',doc2_similarity)\n",
    "print(doc3,'->',doc3_similarity)"
   ]
  }
 ],
 "metadata": {
  "kernelspec": {
   "display_name": "Master",
   "language": "python",
   "name": "python3"
  },
  "language_info": {
   "codemirror_mode": {
    "name": "ipython",
    "version": 3
   },
   "file_extension": ".py",
   "mimetype": "text/x-python",
   "name": "python",
   "nbconvert_exporter": "python",
   "pygments_lexer": "ipython3",
   "version": "3.12.3"
  }
 },
 "nbformat": 4,
 "nbformat_minor": 2
}
